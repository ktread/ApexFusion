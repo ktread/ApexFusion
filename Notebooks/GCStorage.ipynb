{
 "cells": [
  {
   "cell_type": "code",
   "execution_count": null,
   "metadata": {},
   "outputs": [],
   "source": [
    "from google.cloud import datastore\n",
    "client = datastore.Client()\n",
    "\n",
    "\n",
    "\n",
    "\n",
    "#http://5560/cgi-bin/outlog.xml?sdate=030121\n",
    "#http://192.168.86.50:80/cgi-bin/outlog.xml?sdate=2103040101\n",
    "#http://<your IP address or DynDNS name>:<port#>/cgi-bin/outlog.xml?sdate=yymmddhhmm&days=n"
   ]
  }
 ],
 "metadata": {
  "kernelspec": {
   "display_name": "Python 3",
   "language": "python",
   "name": "python3"
  },
  "language_info": {
   "codemirror_mode": {
    "name": "ipython",
    "version": 3
   },
   "file_extension": ".py",
   "mimetype": "text/x-python",
   "name": "python",
   "nbconvert_exporter": "python",
   "pygments_lexer": "ipython3",
   "version": "3.8.5"
  }
 },
 "nbformat": 4,
 "nbformat_minor": 4
}
