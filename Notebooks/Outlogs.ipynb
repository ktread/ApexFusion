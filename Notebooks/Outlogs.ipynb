{
 "cells": [
  {
   "cell_type": "code",
   "execution_count": 1,
   "metadata": {},
   "outputs": [],
   "source": [
    "import os\n",
    "os.environ[\"GOOGLE_APPLICATION_CREDENTIALS\"]=\"/Users/treads/Documents/fusion.json\""
   ]
  },
  {
   "cell_type": "code",
   "execution_count": 2,
   "metadata": {},
   "outputs": [],
   "source": [
    "import requests\n",
    "from google.cloud import storage\n",
    "from datetime import date\n",
    "import xml.etree.ElementTree as ET\n",
    "import pandas as pd\n",
    "import numpy as np\n",
    "import os\n",
    "from io import StringIO\n",
    "import csv\n",
    "path = \"/Users/treads/Documents/apex/\"\n"
   ]
  },
  {
   "cell_type": "code",
   "execution_count": 3,
   "metadata": {},
   "outputs": [],
   "source": [
    "params = {'sdate': date.today().strftime('%y%m%d')}\n",
    "r = requests.get('http://192.168.86.50:80/cgi-bin/outlog.xml', params=params)\n",
    "file = r.text\n",
    "root = ET.fromstring(file)\n",
    "\n",
    "outlog = {}\n",
    "for child in root:\n",
    "    for node in child:\n",
    "        if node.tag in outlog:\n",
    "            outlog[node.tag].append(node.text)\n",
    "        else:\n",
    "            outlog[node.tag] = [node.text]\n",
    "outlogdf = pd.DataFrame(outlog)\n",
    "otlogpath = '/Users/treads/Documents/apex/outlogdf.csv'\n",
    "outlogdf.to_csv('/Users/treads/Documents/apex/outlogdf.csv') "
   ]
  },
  {
   "cell_type": "code",
   "execution_count": 4,
   "metadata": {},
   "outputs": [],
   "source": [
    "date = date.today().strftime('%y%m%d')\n",
    "params = {'sdate': date}\n",
    "r = requests.get('http://192.168.86.50:80/cgi-bin/datalog.xml', params=params)\n",
    "file = r.text\n",
    "root = ET.fromstring(file)\n",
    "datalog = {}\n",
    "dates = []\n",
    "for child in root:\n",
    "    for node in child:\n",
    "        if node.tag == 'date':\n",
    "            currentdate = node.text\n",
    "        elif node.tag == 'probe':\n",
    "            dates.append(currentdate)\n",
    "            for endpoint in node:\n",
    "                if endpoint.tag in datalog:\n",
    "                    datalog[endpoint.tag].append(endpoint.text)\n",
    "                else:\n",
    "                    datalog[endpoint.tag] = [endpoint.text] \n",
    "datalogdf = pd.DataFrame(datalog)\n",
    "datalogdf['date'] = dates\n",
    "dtlogpath = '/Users/treads/Documents/apex/datalogs.csv'\n",
    "datalogdf.to_csv('/Users/treads/Documents/apex/datalogs.csv') "
   ]
  },
  {
   "cell_type": "code",
   "execution_count": 5,
   "metadata": {},
   "outputs": [
    {
     "name": "stdout",
     "output_type": "stream",
     "text": [
      "File /Users/treads/Documents/apex/datalogs.csv uploaded to datalogs210308.txt.\n",
      "File /Users/treads/Documents/apex/outlogdf.csv uploaded to outlogs210308.txt.\n"
     ]
    }
   ],
   "source": [
    "from google.cloud import storage\n",
    "\n",
    "\n",
    "\n",
    "def upload_blob(bucket_name, source_file_name, destination_blob_name):\n",
    "    \"\"\"Uploads a file to the bucket.\"\"\"\n",
    "    bucket_name = bucket_name \n",
    "    source_file_name = source_file_name \n",
    "    destination_blob_name = destination_blob_name\n",
    "\n",
    "    storage_client = storage.Client()\n",
    "    bucket = storage_client.bucket(bucket_name)\n",
    "    blob = bucket.blob(destination_blob_name)\n",
    "\n",
    "    blob.upload_from_filename(source_file_name)\n",
    "\n",
    "    print(\n",
    "        \"File {} uploaded to {}.\".format(\n",
    "            source_file_name, destination_blob_name\n",
    "        )\n",
    "    )\n",
    "\n",
    "upload_blob(\"fusion_logs\",dtlogpath,\"datalogs\"+date+\".txt\")\n",
    "upload_blob(\"fusion_logs\",otlogpath,\"outlogs\"+date+\".txt\")\n"
   ]
  },
  {
   "cell_type": "code",
   "execution_count": null,
   "metadata": {},
   "outputs": [],
   "source": []
  }
 ],
 "metadata": {
  "kernelspec": {
   "display_name": "Python 3",
   "language": "python",
   "name": "python3"
  },
  "language_info": {
   "codemirror_mode": {
    "name": "ipython",
    "version": 3
   },
   "file_extension": ".py",
   "mimetype": "text/x-python",
   "name": "python",
   "nbconvert_exporter": "python",
   "pygments_lexer": "ipython3",
   "version": "3.8.5"
  }
 },
 "nbformat": 4,
 "nbformat_minor": 4
}
